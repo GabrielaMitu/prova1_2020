{
 "cells": [
  {
   "cell_type": "markdown",
   "metadata": {},
   "source": [
    "# Q4 - Ideia da solução"
   ]
  },
  {
   "cell_type": "markdown",
   "metadata": {},
   "source": [
    "### Vídeo da execução\n",
    "\n",
    "A solução está publicada neste endereço:\n",
    "[https://youtu.be/qxBQ9_C_35s](https://youtu.be/qxBQ9_C_35s)\n",
    "\n",
    "Código da solução:\n",
    "[https://github.com/mirwox/prova1_2020/blob/solution/p1_20/scripts/Q4_scan_grafico.py](https://github.com/mirwox/prova1_2020/blob/solution/p1_20/scripts/Q4_scan_grafico.py)\n"
   ]
  },
  {
   "cell_type": "markdown",
   "metadata": {},
   "source": [
    "Vamos estudar a solução:"
   ]
  },
  {
   "cell_type": "markdown",
   "metadata": {},
   "source": [
    "![](saida_q4.png)"
   ]
  },
  {
   "cell_type": "code",
   "execution_count": 1,
   "metadata": {},
   "outputs": [],
   "source": [
    "import cv2\n",
    "import imutils\n",
    "import matplotlib.pyplot as plt\n",
    "\n",
    "frame = cv2.imread(\"saida_q4.png\")"
   ]
  },
  {
   "cell_type": "code",
   "execution_count": 2,
   "metadata": {},
   "outputs": [
    {
     "data": {
      "text/plain": [
       "<matplotlib.image.AxesImage at 0x7fb7a00d2278>"
      ]
     },
     "execution_count": 2,
     "metadata": {},
     "output_type": "execute_result"
    },
    {
     "data": {
      "image/png": "[encoded data removed]",
      "text/plain": [
       "<Figure size 432x288 with 1 Axes>"
      ]
     },
     "metadata": {
      "needs_background": "light"
     },
     "output_type": "display_data"
    }
   ],
   "source": [
    "# pip install imutils\n",
    "plt.imshow(imutils.opencv2matplotlib(frame)) # A imutils só faz a conversão de BGR para RGB antes de dar plt"
   ]
  },
  {
   "cell_type": "code",
   "execution_count": null,
   "metadata": {},
   "outputs": [],
   "source": []
  },
  {
   "cell_type": "markdown",
   "metadata": {},
   "source": [
    "Estamos interessados no maior objeto. \n",
    "\n",
    "Vamos lembrar que na Aula 2 vimos como achar um contorno de maior área."
   ]
  },
  {
   "cell_type": "markdown",
   "metadata": {},
   "source": [
    "### Plot do canal verde"
   ]
  },
  {
   "cell_type": "markdown",
   "metadata": {},
   "source": [
    "Não é preciso usar o inRange. Vamos nos aproveitar do fato de que os prints são em verde puro, conforme visto no código python."
   ]
  },
  {
   "cell_type": "code",
   "execution_count": 3,
   "metadata": {},
   "outputs": [],
   "source": [
    "verde = frame[:,:,1]"
   ]
  },
  {
   "cell_type": "code",
   "execution_count": 4,
   "metadata": {},
   "outputs": [
    {
     "data": {
      "text/plain": [
       "<matplotlib.image.AxesImage at 0x7fb7a00730b8>"
      ]
     },
     "execution_count": 4,
     "metadata": {},
     "output_type": "execute_result"
    },
    {
     "data": {
      "image/png": "[encoded data removed]",
      "text/plain": [
       "<Figure size 432x288 with 1 Axes>"
      ]
     },
     "metadata": {
      "needs_background": "light"
     },
     "output_type": "display_data"
    }
   ],
   "source": [
    "plt.imshow(imutils.opencv2matplotlib(verde))"
   ]
  },
  {
   "cell_type": "markdown",
   "metadata": {},
   "source": [
    "# Contornos em verde"
   ]
  },
  {
   "cell_type": "markdown",
   "metadata": {},
   "source": [
    "Vamos trazer o código de contorno de maior área visto na [aula de Contornos](https://github.com/Insper/robot20/blob/master/aula02/aula2_OpenCV_Filtragem.ipynb)"
   ]
  },
  {
   "cell_type": "code",
   "execution_count": 5,
   "metadata": {},
   "outputs": [],
   "source": [
    "### Funções trazidas do exemplo da aula 2\n",
    "def center_of_contour(contorno):\n",
    "    \"\"\" Retorna uma tupla (cx, cy) que desenha o centro do contorno\"\"\"\n",
    "    M = cv2.moments(contorno)\n",
    "    # Usando a expressão do centróide definida em: https://en.wikipedia.org/wiki/Image_moment\n",
    "    cX = int(M[\"m10\"] / M[\"m00\"])\n",
    "    cY = int(M[\"m01\"] / M[\"m00\"])\n",
    "    return (int(cX), int(cY))\n",
    "\n",
    "def crosshair(img, point, size, color):\n",
    "    \"\"\" Desenha um crosshair centrado no point.\n",
    "        point deve ser uma tupla (x,y)\n",
    "        color é uma tupla R,G,B uint8\n",
    "    \"\"\"\n",
    "    x,y = point\n",
    "    cv2.line(img,(x - size,y),(x + size,y),color,2)\n",
    "    cv2.line(img,(x,y - size),(x, y + size),color,2)\n",
    "\n",
    "### Combinacao de códigos da aula 2\n",
    "def acha_maior_contorno_centro(gray):\n",
    "    \"\"\" Estamos trabalhando com BGR como cores\n",
    "        Retorna uma imagem com os contornos desenhados e a coordenada do centro do maior contorno\n",
    "    \"\"\"\n",
    "    contornos, arvore = cv2.findContours(gray.copy(), cv2.RETR_TREE, cv2.CHAIN_APPROX_SIMPLE)\n",
    "    bgr = cv2.cvtColor(gray, cv2.COLOR_GRAY2BGR)\n",
    "    cv2.drawContours(bgr, contornos, -1, [255, 0, 0], 1);\n",
    "    \n",
    "    \n",
    "    font = cv2.FONT_HERSHEY_SIMPLEX\n",
    "    \n",
    "    maior = None\n",
    "    maior_area = 0\n",
    "    for c in contornos:\n",
    "        area = cv2.contourArea(c)\n",
    "        if area > maior_area:\n",
    "            maior_area = area\n",
    "            maior = c\n",
    "            \n",
    "    p = center_of_contour(maior)      \n",
    "    cv2.drawContours(bgr, [maior], -1, [0, 0, 255], 2);\n",
    "    crosshair(bgr, p, 5, (0,255,0))\n",
    "    \n",
    "    return bgr, p\n",
    "    \n",
    "## Funções trazidas do exemplo da aula 2"
   ]
  },
  {
   "cell_type": "code",
   "execution_count": 6,
   "metadata": {},
   "outputs": [],
   "source": [
    "cont_bgr, p = acha_maior_contorno_centro(verde)\n",
    "c = (256, 256)\n",
    "crosshair(cont_bgr, c, 5, (0,0,255))\n"
   ]
  },
  {
   "cell_type": "markdown",
   "metadata": {},
   "source": [
    "### Identificação dos contornos\n",
    "\n",
    "Vamos ver como fica a função de processamento dos contornos\n",
    "\n"
   ]
  },
  {
   "cell_type": "code",
   "execution_count": 7,
   "metadata": {},
   "outputs": [
    {
     "data": {
      "text/plain": [
       "<matplotlib.image.AxesImage at 0x7fb799d6c8d0>"
      ]
     },
     "execution_count": 7,
     "metadata": {},
     "output_type": "execute_result"
    },
    {
     "data": {
      "image/png": "[encoded data removed]",
      "text/plain": [
       "<Figure size 1152x1152 with 1 Axes>"
      ]
     },
     "metadata": {
      "needs_background": "light"
     },
     "output_type": "display_data"
    }
   ],
   "source": [
    "plt.figure(figsize=(16,16))\n",
    "plt.imshow(imutils.opencv2matplotlib(cont_bgr))"
   ]
  },
  {
   "cell_type": "markdown",
   "metadata": {},
   "source": [
    "# Ideia do algoritmo\n",
    "\n",
    "Podemos girar o robô até que o centro do maior contorno (mostrado em vermelho acima) esteja na vertical do vermelho."
   ]
  },
  {
   "cell_type": "code",
   "execution_count": 15,
   "metadata": {},
   "outputs": [],
   "source": [
    "import math\n",
    "\n",
    "deltay = p[1]-c[1]\n",
    "deltax = p[0]-c[0]"
   ]
  },
  {
   "cell_type": "code",
   "execution_count": 16,
   "metadata": {},
   "outputs": [],
   "source": [
    "ang = math.atan(deltax/deltay)"
   ]
  },
  {
   "cell_type": "code",
   "execution_count": 17,
   "metadata": {},
   "outputs": [
    {
     "data": {
      "text/plain": [
       "31.723602957684026"
      ]
     },
     "execution_count": 17,
     "metadata": {},
     "output_type": "execute_result"
    }
   ],
   "source": [
    "math.degrees(ang)"
   ]
  },
  {
   "cell_type": "code",
   "execution_count": null,
   "metadata": {},
   "outputs": [],
   "source": []
  }
 ],
 "metadata": {
  "kernelspec": {
   "display_name": "Python 3",
   "language": "python",
   "name": "python3"
  },
  "language_info": {
   "codemirror_mode": {
    "name": "ipython",
    "version": 3
   },
   "file_extension": ".py",
   "mimetype": "text/x-python",
   "name": "python",
   "nbconvert_exporter": "python",
   "pygments_lexer": "ipython3",
   "version": "3.6.9"
  }
 },
 "nbformat": 4,
 "nbformat_minor": 4
}
