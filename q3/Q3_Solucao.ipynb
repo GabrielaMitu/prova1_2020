{
 "cells": [
  {
   "cell_type": "markdown",
   "metadata": {},
   "source": [
    "# Questão 3 - explicações"
   ]
  },
  {
   "cell_type": "markdown",
   "metadata": {},
   "source": [
    "Existe um demo da solução aqui [https://youtu.be/n4Ivbk-uFho](https://youtu.be/n4Ivbk-uFho)"
   ]
  },
  {
   "cell_type": "markdown",
   "metadata": {},
   "source": [
    "O código que implementa esta solução está em [https://github.com/mirwox/prova1_2020/blob/solution/p1_20/scripts/Q3_exemplo_odom.py](https://github.com/mirwox/prova1_2020/blob/solution/p1_20/scripts/Q3_exemplo_odom.py)"
   ]
  },
  {
   "cell_type": "markdown",
   "metadata": {},
   "source": [
    "A chave para resolver a Q3 é entender o que a *odometria* fornecida pronta nos fornece: \n",
    "\n",
    "Os ângulos $\\alpha$ e as medidas $x$ e $y$"
   ]
  },
  {
   "cell_type": "markdown",
   "metadata": {},
   "source": [
    "Sendo assim, precisamos fazer as seguintes medidas:\n",
    "\n",
    "* **Rotação à esquerda** de $180^o - \\alpha + \\beta$ para fazer o robô se voltar para a origem\n",
    "* Translação de $hipotenusa = \\sqrt{x^2 + y^2}$"
   ]
  },
  {
   "cell_type": "markdown",
   "metadata": {},
   "source": [
    "Lembrando que $\\beta = atan(\\frac{y}{x})$"
   ]
  },
  {
   "cell_type": "markdown",
   "metadata": {},
   "source": [
    "**Como nas atividades em que usamos o Turtlebot3, é muito importante fechar o teleop após pilotá-lo**"
   ]
  },
  {
   "cell_type": "markdown",
   "metadata": {},
   "source": [
    "![](Q3_figura_explicativa.png)"
   ]
  },
  {
   "cell_type": "code",
   "execution_count": null,
   "metadata": {},
   "outputs": [],
   "source": []
  },
  {
   "cell_type": "code",
   "execution_count": null,
   "metadata": {},
   "outputs": [],
   "source": []
  }
 ],
 "metadata": {
  "kernelspec": {
   "display_name": "Python 3",
   "language": "python",
   "name": "python3"
  },
  "language_info": {
   "codemirror_mode": {
    "name": "ipython",
    "version": 3
   },
   "file_extension": ".py",
   "mimetype": "text/x-python",
   "name": "python",
   "nbconvert_exporter": "python",
   "pygments_lexer": "ipython3",
   "version": "3.6.9"
  }
 },
 "nbformat": 4,
 "nbformat_minor": 4
}
